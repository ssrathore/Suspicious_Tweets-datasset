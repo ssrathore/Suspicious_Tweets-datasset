{
 "cells": [
  {
   "cell_type": "code",
   "execution_count": null,
   "metadata": {},
   "outputs": [],
   "source": [
    "import matplotlib.pyplot as plt"
   ]
  },
  {
   "cell_type": "code",
   "execution_count": null,
   "metadata": {},
   "outputs": [],
   "source": [
    "eval_logistic_x = [0.87630, 0.87351, 0.86263, 0.87543]\n",
    "eval_rforest_x  = [0.91602, 0.90251, 0.92152, 0.91358]\n",
    "eval_knn_x      = [0.83106, 0.83225, 0.84751, 0.82257]\n",
    "eval_dtree_x    = [0.90127, 0.90543, 0.91248, 0.89112]\n",
    "eval_nbayes_x   = [0.68367, 0.67542, 0.67324, 0.68453]\n",
    "\n",
    "\n",
    "# Month names for plotting\n",
    "y = ['Accuracy', 'Precision', 'Recall', 'F1-score']\n"
   ]
  },
  {
   "cell_type": "code",
   "execution_count": null,
   "metadata": {},
   "outputs": [],
   "source": [
    "fig, ax = plt.subplots(figsize=(10, 6))\n",
    "\n",
    "# Define x and y axes\n",
    "ax.plot(y,eval_logistic_x, marker = 'o', label = 'LogisticRegression')\n",
    "ax.plot(y,eval_rforest_x,marker = 'o', label = 'Random Forest')\n",
    "ax.plot(y,eval_knn_x, marker = 'o', label = 'KNN')\n",
    "ax.plot(y,eval_dtree_x, marker = 'o', label = 'Decision Tree')\n",
    "ax.plot(y,eval_nbayes_x, marker = 'o', label = 'Naive Bayes')\n",
    "ax.set(title = \"Comparision of Base Learners with Bag of Words\",\n",
    "       xlabel = \"Comparision Attributes\",\n",
    "       ylabel = \"Score->\")\n",
    "leg = ax.legend();\n",
    "\n",
    "plt.show()"
   ]
  },
  {
   "cell_type": "code",
   "execution_count": null,
   "metadata": {
    "scrolled": false
   },
   "outputs": [],
   "source": [
    "\n",
    "eval_logistic_x = [0.91375, 0.91256, 0.90145, 0.90628]\n",
    "eval_rforest_x  = [0.94666, 0.93458, 0.94375, 0.94112]\n",
    "eval_knn_x      = [0.83219, 0.82156, 0.84751, 0.83348]\n",
    "eval_dtree_x    = [0.86041, 0.86147, 0.86254, 0.85469]\n",
    "eval_nbayes_x   = [0.69120, 0.68845, 0.69014, 0.68158]\n",
    "\n",
    "\n",
    "# Month names for plotting\n",
    "y = ['Accuracy', 'Precision', 'Recall', 'F1-score']\n",
    "\n",
    "fig, ax = plt.subplots(figsize=(10, 6))\n",
    "\n",
    "# Define x and y axes\n",
    "ax.plot(y,eval_logistic_x, marker = 'o', label = 'LogisticRegression')\n",
    "ax.plot(y,eval_rforest_x,marker = 'o', label = 'Random Forest')\n",
    "ax.plot(y,eval_knn_x, marker = 'o', label = 'KNN')\n",
    "ax.plot(y,eval_dtree_x, marker = 'o', label = 'Decision Tree')\n",
    "ax.plot(y,eval_nbayes_x, marker = 'o', label = 'Naive Bayes')\n",
    "ax.set(title = \"Comparision of Base Learners with tf-idf\",\n",
    "       xlabel = \"Comparision Attributes\",\n",
    "       ylabel = \"Score->\")\n",
    "leg = ax.legend();\n",
    "plt.show()"
   ]
  },
  {
   "cell_type": "code",
   "execution_count": null,
   "metadata": {},
   "outputs": [],
   "source": [
    "%matplotlib inline\n",
    "eval_bagging_x   =   [0.94368, 0.94283, 0.92451, 0.93457]\n",
    "eval_boosting_x  =   [0.90354, 0.90228, 0.89340, 0.90586]\n",
    "eval_stacking_x  =   [0.92765, 0.92506, 0.91355, 0.92679]\n",
    "\n",
    "\n",
    "\n",
    "# Month names for plotting\n",
    "y = ['Accuracy', 'Precision', 'Recall', 'F1-score']\n",
    "\n",
    "fig, ax = plt.subplots(figsize=(10, 6))\n",
    "\n",
    "# Define x and y axes\n",
    "ax.plot(y,eval_bagging_x, marker = 'o', label = 'Bagging')\n",
    "ax.plot(y,eval_boosting_x ,marker = 'o', label = 'Boosting')\n",
    "ax.plot(y,eval_stacking_x, marker = 'o', label = 'Stacking')\n",
    "ax.set(title = \"Comparision of Ensembles with tf-idf\",\n",
    "       xlabel = \"Comparision Attributes\",\n",
    "       ylabel = \"Score->\")\n",
    "leg = ax.legend();\n",
    "plt.show()"
   ]
  },
  {
   "cell_type": "code",
   "execution_count": null,
   "metadata": {},
   "outputs": [],
   "source": [
    "%matplotlib inline\n",
    "eval_bagging_x   =   [0.95242, 0.94525, 0.95221, 0.94625]\n",
    "eval_boosting_x  =   [0.93691, 0.92542, 0.93231, 0.93042]\n",
    "eval_stacking_x  =   [0.91969, 0.91125, 0.90589, 0.91287]\n",
    "\n",
    "\n",
    "\n",
    "# Month names for plotting\n",
    "y = ['Accuracy', 'Precision', 'Recall', 'F1-score']\n",
    "\n",
    "fig, ax = plt.subplots(figsize=(10, 6))\n",
    "\n",
    "# Define x and y axes\n",
    "ax.plot(y,eval_bagging_x, marker = 'o', label = 'Bagging')\n",
    "ax.plot(y,eval_boosting_x ,marker = 'o', label = 'Boosting')\n",
    "ax.plot(y,eval_stacking_x, marker = 'o', label = 'Stacking')\n",
    "ax.set(title = \"Comparision of Ensembles with tf-idf On DB2\",\n",
    "       xlabel = \"Comparision Attributes\",\n",
    "       ylabel = \"Score->\")\n",
    "leg = ax.legend();\n",
    "plt.show()"
   ]
  }
 ],
 "metadata": {
  "kernelspec": {
   "display_name": "Python 3",
   "language": "python",
   "name": "python3"
  },
  "language_info": {
   "codemirror_mode": {
    "name": "ipython",
    "version": 3
   },
   "file_extension": ".py",
   "mimetype": "text/x-python",
   "name": "python",
   "nbconvert_exporter": "python",
   "pygments_lexer": "ipython3",
   "version": "3.8.3"
  }
 },
 "nbformat": 4,
 "nbformat_minor": 4
}
